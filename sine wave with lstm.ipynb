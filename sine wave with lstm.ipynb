{
 "cells": [
  {
   "cell_type": "markdown",
   "metadata": {},
   "source": [
    "## LSTM Time Series \n",
    "- example with Sine wave "
   ]
  },
  {
   "cell_type": "code",
   "execution_count": 36,
   "metadata": {},
   "outputs": [],
   "source": [
    "import numpy as np\n",
    "from scipy.optimize import leastsq\n",
    "import pylab as plt\n",
    "import matplotlib.pyplot as plt\n",
    "%matplotlib inline\n",
    "import pandas as pd\n",
    "\n",
    "## Create noisy sine wave data time series\n",
    "N = 10000 # number of data points\n",
    "t = np.linspace(0, 50*np.pi, N)\n",
    "data = 4.0*np.sin(t+0.001) + np.random.randn(N) # create artificial data with noise"
   ]
  },
  {
   "cell_type": "code",
   "execution_count": 17,
   "metadata": {},
   "outputs": [
    {
     "data": {
      "text/plain": [
       "[<matplotlib.lines.Line2D at 0x1203a6ad0>]"
      ]
     },
     "execution_count": 17,
     "metadata": {},
     "output_type": "execute_result"
    },
    {
     "data": {
      "image/png": "[encoded data removed]",
      "text/plain": [
       "<matplotlib.figure.Figure at 0x10d2d4450>"
      ]
     },
     "metadata": {},
     "output_type": "display_data"
    }
   ],
   "source": [
    "new_data = pd.DataFrame(zip(t, data)).values\n",
    "plt.plot(t, new_data[:,1])"
   ]
  },
  {
   "cell_type": "code",
   "execution_count": 18,
   "metadata": {},
   "outputs": [],
   "source": [
    "# import keras stuff....\n",
    "from keras.models import Sequential\n",
    "from keras.layers import Dense\n",
    "from keras.layers import LSTM\n",
    "from sklearn.preprocessing import MinMaxScaler\n",
    "from matplotlib import pyplot"
   ]
  },
  {
   "cell_type": "code",
   "execution_count": 24,
   "metadata": {
    "collapsed": true
   },
   "outputs": [],
   "source": [
    "# we have shifts and a window. We want to take the time series and add window columns that are ofset by shift amount. \n",
    "# So for example, we can shift by 1 second over a window of 30 seconds. This means we create a data set containing\n",
    "# 30 columns. \n",
    "def timeseries_to_lstm(timeseries_data, shift=1, window=5):\n",
    "    window_number_of_shifts = []\n",
    "    for i in range(window):\n",
    "        window_number_of_shifts.append(timeseries_data.shift(i))\n",
    "\n",
    "    d = pd.concat(window_number_of_shifts, 1)\n",
    "    d.columns = range(d.shape[1])\n",
    "    print d.head(10)\n",
    "    d = d.values[chunk:,:]\n",
    "    return d"
   ]
  },
  {
   "cell_type": "code",
   "execution_count": 25,
   "metadata": {},
   "outputs": [
    {
     "name": "stdout",
     "output_type": "stream",
     "text": [
      "          0         1         2         3         4\n",
      "0 -0.578084       NaN       NaN       NaN       NaN\n",
      "1  0.548365 -0.578084       NaN       NaN       NaN\n",
      "2 -1.378333  0.548365 -0.578084       NaN       NaN\n",
      "3 -1.414162 -1.378333  0.548365 -0.578084       NaN\n",
      "4 -0.004738 -1.414162 -1.378333  0.548365 -0.578084\n",
      "5 -1.200145 -0.004738 -1.414162 -1.378333  0.548365\n",
      "6 -0.427708 -1.200145 -0.004738 -1.414162 -1.378333\n",
      "7 -1.398298 -0.427708 -1.200145 -0.004738 -1.414162\n",
      "8 -0.653663 -1.398298 -0.427708 -1.200145 -0.004738\n",
      "9  0.271200 -0.653663 -1.398298 -0.427708 -1.200145\n"
     ]
    }
   ],
   "source": [
    "# The time series contains NaNs where the shift occurred so these must be removed. \n",
    "timeseries_data = pd.DataFrame(data)\n",
    "timeseries_data.head()\n",
    "d = timeseries_to_lstm(timeseries_data, shift=1, chunk=5)"
   ]
  },
  {
   "cell_type": "code",
   "execution_count": 28,
   "metadata": {},
   "outputs": [
    {
     "name": "stdout",
     "output_type": "stream",
     "text": [
      "[[-1.20014512 -0.00473802 -1.41416245 -1.37833318  0.54836513]\n",
      " [-0.42770811 -1.20014512 -0.00473802 -1.41416245 -1.37833318]\n",
      " [-1.39829768 -0.42770811 -1.20014512 -0.00473802 -1.41416245]\n",
      " ..., \n",
      " [-3.18624517 -0.29722325  0.44882346 -0.54064913 -0.77066185]\n",
      " [ 1.11681016 -3.18624517 -0.29722325  0.44882346 -0.54064913]\n",
      " [ 0.93109886  1.11681016 -3.18624517 -0.29722325  0.44882346]]\n"
     ]
    },
    {
     "data": {
      "text/plain": [
       "(99995, 5)"
      ]
     },
     "execution_count": 28,
     "metadata": {},
     "output_type": "execute_result"
    }
   ],
   "source": [
    "lstm_data = d\n",
    "print lstm_data\n",
    "lstm_data.shape"
   ]
  },
  {
   "cell_type": "code",
   "execution_count": null,
   "metadata": {
    "collapsed": true
   },
   "outputs": [],
   "source": [
    "percentage = .3\n",
    "limit = int(lstm_data.shape[0]*percentage)\n",
    "# Test comes after the training data \n",
    "# (with a time series... this is how test train works)\n",
    "train = lstm_data[:limit, :]\n",
    "test = lstm_data[limit:, :]"
   ]
  },
  {
   "cell_type": "code",
   "execution_count": 51,
   "metadata": {},
   "outputs": [
    {
     "name": "stdout",
     "output_type": "stream",
     "text": [
      "((29998, 1, 4), (29998,), (69997, 1, 4), (69997,))\n"
     ]
    }
   ],
   "source": [
    "# train and test_y are the last column of the dataset (the 30th column)\n",
    "train_X, train_y = train[:, :-1], train[:, -1]\n",
    "test_X, test_y = test[:, :-1], test[:, -1]\n",
    "# reshape input to be 3D [samples, timesteps, features]\n",
    "train_X = train_X.reshape((train_X.shape[0], 1, train_X.shape[1]))\n",
    "test_X = test_X.reshape((test_X.shape[0], 1, test_X.shape[1]))\n",
    "print(train_X.shape, train_y.shape, test_X.shape, test_y.shape)"
   ]
  },
  {
   "cell_type": "code",
   "execution_count": 52,
   "metadata": {},
   "outputs": [
    {
     "name": "stdout",
     "output_type": "stream",
     "text": [
      "Train on 29998 samples, validate on 69997 samples\n",
      "Epoch 1/50\n",
      "6s - loss: 1.2122 - val_loss: 0.8915\n",
      "Epoch 2/50\n",
      "6s - loss: 0.8954 - val_loss: 0.8828\n",
      "Epoch 3/50\n",
      "6s - loss: 0.8905 - val_loss: 0.8826\n",
      "Epoch 4/50\n",
      "5s - loss: 0.8895 - val_loss: 0.8823\n",
      "Epoch 5/50\n",
      "5s - loss: 0.8891 - val_loss: 0.8819\n",
      "Epoch 6/50\n",
      "5s - loss: 0.8887 - val_loss: 0.8818\n",
      "Epoch 7/50\n",
      "5s - loss: 0.8884 - val_loss: 0.8820\n",
      "Epoch 8/50\n",
      "5s - loss: 0.8881 - val_loss: 0.8819\n",
      "Epoch 9/50\n",
      "5s - loss: 0.8879 - val_loss: 0.8818\n",
      "Epoch 10/50\n",
      "5s - loss: 0.8874 - val_loss: 0.8817\n",
      "Epoch 11/50\n",
      "5s - loss: 0.8871 - val_loss: 0.8819\n",
      "Epoch 12/50\n",
      "5s - loss: 0.8869 - val_loss: 0.8815\n",
      "Epoch 13/50\n",
      "5s - loss: 0.8868 - val_loss: 0.8813\n",
      "Epoch 14/50\n",
      "5s - loss: 0.8865 - val_loss: 0.8816\n",
      "Epoch 15/50\n",
      "5s - loss: 0.8864 - val_loss: 0.8814\n",
      "Epoch 16/50\n",
      "5s - loss: 0.8862 - val_loss: 0.8810\n",
      "Epoch 17/50\n",
      "5s - loss: 0.8860 - val_loss: 0.8804\n",
      "Epoch 18/50\n",
      "5s - loss: 0.8858 - val_loss: 0.8808\n",
      "Epoch 19/50\n",
      "5s - loss: 0.8858 - val_loss: 0.8807\n",
      "Epoch 20/50\n",
      "5s - loss: 0.8857 - val_loss: 0.8803\n",
      "Epoch 21/50\n",
      "5s - loss: 0.8856 - val_loss: 0.8807\n",
      "Epoch 22/50\n",
      "5s - loss: 0.8855 - val_loss: 0.8803\n",
      "Epoch 23/50\n",
      "5s - loss: 0.8854 - val_loss: 0.8803\n",
      "Epoch 24/50\n",
      "5s - loss: 0.8853 - val_loss: 0.8800\n",
      "Epoch 25/50\n",
      "5s - loss: 0.8852 - val_loss: 0.8801\n",
      "Epoch 26/50\n",
      "5s - loss: 0.8851 - val_loss: 0.8802\n",
      "Epoch 27/50\n",
      "5s - loss: 0.8851 - val_loss: 0.8800\n",
      "Epoch 28/50\n",
      "6s - loss: 0.8850 - val_loss: 0.8798\n",
      "Epoch 29/50\n",
      "5s - loss: 0.8849 - val_loss: 0.8797\n",
      "Epoch 30/50\n",
      "5s - loss: 0.8848 - val_loss: 0.8798\n",
      "Epoch 31/50\n",
      "5s - loss: 0.8848 - val_loss: 0.8798\n",
      "Epoch 32/50\n",
      "5s - loss: 0.8847 - val_loss: 0.8798\n",
      "Epoch 33/50\n",
      "5s - loss: 0.8847 - val_loss: 0.8797\n",
      "Epoch 34/50\n",
      "5s - loss: 0.8846 - val_loss: 0.8800\n",
      "Epoch 35/50\n",
      "5s - loss: 0.8846 - val_loss: 0.8797\n",
      "Epoch 36/50\n",
      "5s - loss: 0.8845 - val_loss: 0.8799\n",
      "Epoch 37/50\n",
      "5s - loss: 0.8845 - val_loss: 0.8798\n",
      "Epoch 38/50\n",
      "6s - loss: 0.8843 - val_loss: 0.8797\n",
      "Epoch 39/50\n",
      "5s - loss: 0.8843 - val_loss: 0.8797\n",
      "Epoch 40/50\n",
      "5s - loss: 0.8843 - val_loss: 0.8796\n",
      "Epoch 41/50\n",
      "5s - loss: 0.8842 - val_loss: 0.8796\n",
      "Epoch 42/50\n",
      "5s - loss: 0.8841 - val_loss: 0.8796\n",
      "Epoch 43/50\n",
      "5s - loss: 0.8841 - val_loss: 0.8796\n",
      "Epoch 44/50\n",
      "5s - loss: 0.8841 - val_loss: 0.8794\n",
      "Epoch 45/50\n",
      "5s - loss: 0.8840 - val_loss: 0.8796\n",
      "Epoch 46/50\n",
      "5s - loss: 0.8840 - val_loss: 0.8794\n",
      "Epoch 47/50\n",
      "5s - loss: 0.8840 - val_loss: 0.8796\n",
      "Epoch 48/50\n",
      "6s - loss: 0.8839 - val_loss: 0.8795\n",
      "Epoch 49/50\n",
      "5s - loss: 0.8839 - val_loss: 0.8793\n",
      "Epoch 50/50\n",
      "5s - loss: 0.8838 - val_loss: 0.8794\n"
     ]
    },
    {
     "data": {
      "image/png": "[encoded data removed]",
      "text/plain": [
       "<matplotlib.figure.Figure at 0x1237b2f90>"
      ]
     },
     "metadata": {},
     "output_type": "display_data"
    }
   ],
   "source": [
    "# design network\n",
    "model = Sequential()\n",
    "model.add(LSTM(50, input_shape=(train_X.shape[1], train_X.shape[2])))\n",
    "model.add(Dense(1))\n",
    "\n",
    "model.compile(loss='mae', optimizer='adam')\n",
    "# fit network\n",
    "history = model.fit(\n",
    "    train_X, \n",
    "    train_y, \n",
    "    epochs=50, \n",
    "    batch_size=72, \n",
    "    validation_data=(test_X, test_y), \n",
    "    verbose=2, \n",
    "    shuffle=False\n",
    ")\n",
    "# plot history\n",
    "pyplot.plot(history.history['loss'], label='train')\n",
    "pyplot.plot(history.history['val_loss'], label='test')\n",
    "pyplot.legend()\n",
    "pyplot.show()"
   ]
  },
  {
   "cell_type": "code",
   "execution_count": 53,
   "metadata": {},
   "outputs": [
    {
     "data": {
      "text/plain": [
       "[<matplotlib.lines.Line2D at 0x1216af590>]"
      ]
     },
     "execution_count": 53,
     "metadata": {},
     "output_type": "execute_result"
    },
    {
     "data": {
      "image/png": "[encoded data removed]",
      "text/plain": [
       "<matplotlib.figure.Figure at 0x123482d50>"
      ]
     },
     "metadata": {},
     "output_type": "display_data"
    }
   ],
   "source": [
    "## plot the test output \n",
    "plt.plot(model.predict(test_X))"
   ]
  },
  {
   "cell_type": "code",
   "execution_count": 54,
   "metadata": {},
   "outputs": [
    {
     "name": "stdout",
     "output_type": "stream",
     "text": [
      "Test RMSE: 1.103\n"
     ]
    }
   ],
   "source": [
    "from numpy import concatenate\n",
    "yhat = model.predict(test_X)\n",
    "from math import sqrt\n",
    "from sklearn.metrics import mean_squared_error\n",
    "rmse = sqrt(mean_squared_error(test_y, yhat))\n",
    "print('Test RMSE: %.3f' % rmse)"
   ]
  },
  {
   "cell_type": "code",
   "execution_count": null,
   "metadata": {
    "collapsed": true
   },
   "outputs": [],
   "source": []
  }
 ],
 "metadata": {
  "kernelspec": {
   "display_name": "Python 2",
   "language": "python",
   "name": "python2"
  },
  "language_info": {
   "codemirror_mode": {
    "name": "ipython",
    "version": 2
   },
   "file_extension": ".py",
   "mimetype": "text/x-python",
   "name": "python",
   "nbconvert_exporter": "python",
   "pygments_lexer": "ipython2",
   "version": "2.7.10"
  }
 },
 "nbformat": 4,
 "nbformat_minor": 2
}
